{
 "cells": [
  {
   "cell_type": "code",
   "execution_count": 1,
   "id": "initial_id",
   "metadata": {
    "collapsed": true,
    "ExecuteTime": {
     "end_time": "2023-10-12T12:19:23.884177800Z",
     "start_time": "2023-10-12T12:19:23.711526800Z"
    }
   },
   "outputs": [],
   "source": [
    "import numpy as np"
   ]
  },
  {
   "cell_type": "code",
   "execution_count": 2,
   "outputs": [],
   "source": [
    "matrix = [[1, 0, 1, 1, 1, 1],\n",
    "          [1, 0, 1, 1, 1, 1],\n",
    "          [0, 1, 1, 0, 0, 1],\n",
    "          [0, 0, 1, 1, 1, 1],\n",
    "          [0, 0, 1, 0, 1, 1],\n",
    "          [0, 0, 1, 1, 0, 0]]"
   ],
   "metadata": {
    "collapsed": false,
    "ExecuteTime": {
     "end_time": "2023-10-12T12:19:23.899371600Z",
     "start_time": "2023-10-12T12:19:23.888534900Z"
    }
   },
   "id": "5cf395edd76d56be"
  },
  {
   "cell_type": "code",
   "execution_count": 3,
   "outputs": [],
   "source": [
    "nparr = np.array(matrix)"
   ],
   "metadata": {
    "collapsed": false,
    "ExecuteTime": {
     "end_time": "2023-10-12T12:19:23.899371600Z",
     "start_time": "2023-10-12T12:19:23.892846Z"
    }
   },
   "id": "55260470ff7515be"
  },
  {
   "cell_type": "code",
   "execution_count": 4,
   "outputs": [
    {
     "data": {
      "text/plain": "array([[1, 0, 1, 1, 1, 1],\n       [1, 0, 1, 1, 1, 1],\n       [0, 1, 1, 0, 0, 1],\n       [0, 0, 1, 1, 1, 1],\n       [0, 0, 1, 0, 1, 1],\n       [0, 0, 1, 1, 0, 0]])"
     },
     "execution_count": 4,
     "metadata": {},
     "output_type": "execute_result"
    }
   ],
   "source": [
    "nparr"
   ],
   "metadata": {
    "collapsed": false,
    "ExecuteTime": {
     "end_time": "2023-10-12T12:19:23.902380500Z",
     "start_time": "2023-10-12T12:19:23.893354500Z"
    }
   },
   "id": "8d54543a2158fb4e"
  },
  {
   "cell_type": "code",
   "execution_count": 14,
   "outputs": [],
   "source": [
    "def get_next_gen(mat):\n",
    "    new_mat = np.copy(mat)\n",
    "    for row in range(len(mat)):\n",
    "        for col in range(len(mat[0])):\n",
    "            alive_neighbours = get_neighbours_count(mat, row, col)\n",
    "            if alive_neighbours == 3 and mat[row, col] == 0:\n",
    "                new_mat[row, col] = 1\n",
    "            elif alive_neighbours > 3 and mat[row, col] == 1:\n",
    "                new_mat[row, col] = 0\n",
    "            elif alive_neighbours < 2 and mat[row, col] == 1:\n",
    "                new_mat[row, col] = 0\n",
    "            else:\n",
    "                pass\n",
    "    return new_mat\n",
    "\n",
    "def get_neighbours_count(mat, row, col):\n",
    "    val = 0\n",
    "    for i in range(-1, 2):\n",
    "        for j in range(-1, 2):\n",
    "            t_row = (row + i + len(mat)) % len(mat)\n",
    "            t_col = (col + j + len(mat[0])) % len(mat[0])\n",
    "            val += mat[t_row, t_col]\n",
    "    val -= mat[row, col]\n",
    "    return val\n"
   ],
   "metadata": {
    "collapsed": false,
    "ExecuteTime": {
     "end_time": "2023-10-12T12:41:22.114823900Z",
     "start_time": "2023-10-12T12:41:22.114823900Z"
    }
   },
   "id": "a80f0a741ab116ca"
  },
  {
   "cell_type": "code",
   "execution_count": 15,
   "outputs": [
    {
     "ename": "TypeError",
     "evalue": "list indices must be integers or slices, not tuple",
     "output_type": "error",
     "traceback": [
      "\u001B[1;31m---------------------------------------------------------------------------\u001B[0m",
      "\u001B[1;31mTypeError\u001B[0m                                 Traceback (most recent call last)",
      "Cell \u001B[1;32mIn[15], line 1\u001B[0m\n\u001B[1;32m----> 1\u001B[0m \u001B[38;5;28mnext\u001B[39m \u001B[38;5;241m=\u001B[39m \u001B[43mget_next_gen\u001B[49m\u001B[43m(\u001B[49m\u001B[43mmatrix\u001B[49m\u001B[43m)\u001B[49m\n",
      "Cell \u001B[1;32mIn[14], line 5\u001B[0m, in \u001B[0;36mget_next_gen\u001B[1;34m(mat)\u001B[0m\n\u001B[0;32m      3\u001B[0m \u001B[38;5;28;01mfor\u001B[39;00m row \u001B[38;5;129;01min\u001B[39;00m \u001B[38;5;28mrange\u001B[39m(\u001B[38;5;28mlen\u001B[39m(mat)):\n\u001B[0;32m      4\u001B[0m     \u001B[38;5;28;01mfor\u001B[39;00m col \u001B[38;5;129;01min\u001B[39;00m \u001B[38;5;28mrange\u001B[39m(\u001B[38;5;28mlen\u001B[39m(mat[\u001B[38;5;241m0\u001B[39m])):\n\u001B[1;32m----> 5\u001B[0m         alive_neighbours \u001B[38;5;241m=\u001B[39m \u001B[43mget_neighbours_count\u001B[49m\u001B[43m(\u001B[49m\u001B[43mmat\u001B[49m\u001B[43m,\u001B[49m\u001B[43m \u001B[49m\u001B[43mrow\u001B[49m\u001B[43m,\u001B[49m\u001B[43m \u001B[49m\u001B[43mcol\u001B[49m\u001B[43m)\u001B[49m\n\u001B[0;32m      6\u001B[0m         \u001B[38;5;28;01mif\u001B[39;00m alive_neighbours \u001B[38;5;241m==\u001B[39m \u001B[38;5;241m3\u001B[39m \u001B[38;5;129;01mand\u001B[39;00m mat[row, col] \u001B[38;5;241m==\u001B[39m \u001B[38;5;241m0\u001B[39m:\n\u001B[0;32m      7\u001B[0m             new_mat[row, col] \u001B[38;5;241m=\u001B[39m \u001B[38;5;241m1\u001B[39m\n",
      "Cell \u001B[1;32mIn[14], line 22\u001B[0m, in \u001B[0;36mget_neighbours_count\u001B[1;34m(mat, row, col)\u001B[0m\n\u001B[0;32m     20\u001B[0m         t_row \u001B[38;5;241m=\u001B[39m (row \u001B[38;5;241m+\u001B[39m i \u001B[38;5;241m+\u001B[39m \u001B[38;5;28mlen\u001B[39m(mat)) \u001B[38;5;241m%\u001B[39m \u001B[38;5;28mlen\u001B[39m(mat)\n\u001B[0;32m     21\u001B[0m         t_col \u001B[38;5;241m=\u001B[39m (col \u001B[38;5;241m+\u001B[39m j \u001B[38;5;241m+\u001B[39m \u001B[38;5;28mlen\u001B[39m(mat[\u001B[38;5;241m0\u001B[39m])) \u001B[38;5;241m%\u001B[39m \u001B[38;5;28mlen\u001B[39m(mat[\u001B[38;5;241m0\u001B[39m])\n\u001B[1;32m---> 22\u001B[0m         val \u001B[38;5;241m+\u001B[39m\u001B[38;5;241m=\u001B[39m \u001B[43mmat\u001B[49m\u001B[43m[\u001B[49m\u001B[43mt_row\u001B[49m\u001B[43m,\u001B[49m\u001B[43m \u001B[49m\u001B[43mt_col\u001B[49m\u001B[43m]\u001B[49m\n\u001B[0;32m     23\u001B[0m val \u001B[38;5;241m-\u001B[39m\u001B[38;5;241m=\u001B[39m mat[row, col]\n\u001B[0;32m     24\u001B[0m \u001B[38;5;28;01mreturn\u001B[39;00m val\n",
      "\u001B[1;31mTypeError\u001B[0m: list indices must be integers or slices, not tuple"
     ]
    }
   ],
   "source": [
    "next = get_next_gen(matrix)"
   ],
   "metadata": {
    "collapsed": false,
    "ExecuteTime": {
     "end_time": "2023-10-12T12:41:31.657920600Z",
     "start_time": "2023-10-12T12:41:31.657414100Z"
    }
   },
   "id": "3f38936129eaf7fc"
  },
  {
   "cell_type": "code",
   "execution_count": null,
   "outputs": [],
   "source": [],
   "metadata": {
    "collapsed": false
   },
   "id": "8b596f2839200444"
  }
 ],
 "metadata": {
  "kernelspec": {
   "display_name": "Python 3",
   "language": "python",
   "name": "python3"
  },
  "language_info": {
   "codemirror_mode": {
    "name": "ipython",
    "version": 2
   },
   "file_extension": ".py",
   "mimetype": "text/x-python",
   "name": "python",
   "nbconvert_exporter": "python",
   "pygments_lexer": "ipython2",
   "version": "2.7.6"
  }
 },
 "nbformat": 4,
 "nbformat_minor": 5
}
